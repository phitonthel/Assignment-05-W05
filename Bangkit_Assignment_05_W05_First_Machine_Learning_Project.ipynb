{
  "nbformat": 4,
  "nbformat_minor": 0,
  "metadata": {
    "colab": {
      "name": "Bangkit - Assignment #05-W05-First Machine Learning Project.ipynb",
      "provenance": [],
      "authorship_tag": "ABX9TyN54t5PzSfEihp7fuXmEeLF",
      "include_colab_link": true
    },
    "kernelspec": {
      "name": "python3",
      "display_name": "Python 3"
    },
    "accelerator": "GPU"
  },
  "cells": [
    {
      "cell_type": "markdown",
      "metadata": {
        "id": "view-in-github",
        "colab_type": "text"
      },
      "source": [
        "<a href=\"https://colab.research.google.com/github/phitonthel/Assignment-05-W05/blob/master/Bangkit_Assignment_05_W05_First_Machine_Learning_Project.ipynb\" target=\"_parent\"><img src=\"https://colab.research.google.com/assets/colab-badge.svg\" alt=\"Open In Colab\"/></a>"
      ]
    },
    {
      "cell_type": "code",
      "metadata": {
        "id": "jThORq4d0Wv2",
        "colab_type": "code",
        "colab": {}
      },
      "source": [
        "import os\n",
        "os.environ['KAGGLE_CONFIG_DIR'] = \"/content/\""
      ],
      "execution_count": 1,
      "outputs": []
    },
    {
      "cell_type": "code",
      "metadata": {
        "id": "UXui8lIb0pvb",
        "colab_type": "code",
        "colab": {
          "resources": {
            "http://localhost:8080/nbextensions/google.colab/files.js": {
              "data": "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",
              "ok": true,
              "headers": [
                [
                  "content-type",
                  "application/javascript"
                ]
              ],
              "status": 200,
              "status_text": "OK"
            }
          },
          "base_uri": "https://localhost:8080/",
          "height": 93
        },
        "outputId": "34b5c0cd-9521-4fdf-a628-472f4cf408c9"
      },
      "source": [
        "# Run this cell and select the kaggle.json file downloaded\n",
        "# from the Kaggle account settings page.\n",
        "from google.colab import files\n",
        "files.upload()"
      ],
      "execution_count": 2,
      "outputs": [
        {
          "output_type": "display_data",
          "data": {
            "text/html": [
              "\n",
              "     <input type=\"file\" id=\"files-7381eaf0-6c0f-4110-81bc-4144a4d4d518\" name=\"files[]\" multiple disabled\n",
              "        style=\"border:none\" />\n",
              "     <output id=\"result-7381eaf0-6c0f-4110-81bc-4144a4d4d518\">\n",
              "      Upload widget is only available when the cell has been executed in the\n",
              "      current browser session. Please rerun this cell to enable.\n",
              "      </output>\n",
              "      <script src=\"/nbextensions/google.colab/files.js\"></script> "
            ],
            "text/plain": [
              "<IPython.core.display.HTML object>"
            ]
          },
          "metadata": {
            "tags": []
          }
        },
        {
          "output_type": "stream",
          "text": [
            "Saving kaggle.json to kaggle (1).json\n"
          ],
          "name": "stdout"
        },
        {
          "output_type": "execute_result",
          "data": {
            "text/plain": [
              "{'kaggle.json': b'{\"username\":\"phitonthel\",\"key\":\"d9ea2b50c6ed0d87faec6a6446db15dd\"}'}"
            ]
          },
          "metadata": {
            "tags": []
          },
          "execution_count": 2
        }
      ]
    },
    {
      "cell_type": "code",
      "metadata": {
        "id": "9pXMQUfV0rzN",
        "colab_type": "code",
        "colab": {
          "base_uri": "https://localhost:8080/",
          "height": 496
        },
        "outputId": "4012e331-303b-429c-c402-cb0e93446089"
      },
      "source": [
        "# Let's make sure the kaggle.json file is present.\n",
        "!ls -lha kaggle.json\n",
        "\n",
        "# Next, install the Kaggle API client.\n",
        "!pip install -q kaggle\n",
        "\n",
        "# The Kaggle API client expects this file to be in ~/.kaggle,\n",
        "# so move it there.\n",
        "!mkdir -p ~/.kaggle\n",
        "!cp kaggle.json ~/.kaggle/\n",
        "\n",
        "# This permissions change avoids a warning on Kaggle tool startup.\n",
        "!chmod 600 ~/.kaggle/kaggle.json\n",
        "\n",
        "# List available datasets.\n",
        "!kaggle datasets list\n",
        "\n"
      ],
      "execution_count": 3,
      "outputs": [
        {
          "output_type": "stream",
          "text": [
            "-rw-r--r-- 1 root root 66 Jul  3 13:38 kaggle.json\n",
            "Warning: Your Kaggle API key is readable by other users on this system! To fix this, you can run 'chmod 600 /content/kaggle.json'\n",
            "Warning: Looks like you're using an outdated API Version, please consider updating (server 1.5.6 / client 1.5.4)\n",
            "ref                                                         title                                                size  lastUpdated          downloadCount  \n",
            "----------------------------------------------------------  --------------------------------------------------  -----  -------------------  -------------  \n",
            "allen-institute-for-ai/CORD-19-research-challenge           COVID-19 Open Research Dataset Challenge (CORD-19)    3GB  2020-06-29 17:04:40          85057  \n",
            "roche-data-science-coalition/uncover                        UNCOVER COVID-19 Challenge                          179MB  2020-05-21 18:57:53          14729  \n",
            "madeleineferguson/farmers-markets-in-the-united-states      Farmers Markets in the United States                816KB  2020-06-10 16:41:46            800  \n",
            "promptcloud/jobs-on-naukricom                               Jobs On Naukri.com                                    3MB  2020-06-15 10:51:07            845  \n",
            "mikahama/the-best-sarcasm-annotated-dataset-in-spanish      The Best Sarcasm Annotated Dataset in Spanish        26KB  2020-06-21 16:50:44             76  \n",
            "yeayates21/garage-detection-unofficial-ssl-challenge        Garage Detection Unofficial SSL Challenge            33MB  2020-06-18 14:00:08             82  \n",
            "shubh0799/churn-modelling                                   Churn Modelling                                     262KB  2020-06-20 17:33:28            634  \n",
            "jessemostipak/caribou-location-tracking                     Caribou Location Tracking                             6MB  2020-06-22 21:44:58            145  \n",
            "rohan0301/unsupervised-learning-on-country-data             Unsupervised Learning on Country Data                 5KB  2020-06-17 07:45:45            621  \n",
            "josehenriqueroveda/fertilizers-by-product-fao               Fertilizers by Product FAO                            1MB  2020-06-16 13:01:07            423  \n",
            "benroshan/factors-affecting-campus-placement                Campus Recruitment                                    5KB  2020-04-11 11:09:02           9966  \n",
            "bobbyscience/league-of-legends-diamond-ranked-games-10-min  League of Legends Diamond Ranked Games (10 min)     539KB  2020-04-13 13:53:02           4149  \n",
            "fireballbyedimyrnmom/us-counties-covid-19-dataset           US counties COVID 19 dataset                          3MB  2020-07-03 11:45:20           9384  \n",
            "divyansh22/flight-delay-prediction                          January Flight Delay Prediction                      23MB  2020-04-14 13:15:41           3407  \n",
            "clmentbisaillon/fake-and-real-news-dataset                  Fake and real news dataset                           41MB  2020-03-26 18:51:15           8513  \n",
            "ikiulian/global-hospital-beds-capacity-for-covid19          Global Hospital Beds Capacity (for covid-19)        284KB  2020-04-26 09:39:35           2890  \n",
            "praveengovi/coronahack-chest-xraydataset                    CoronaHack -Chest X-Ray-Dataset                       1GB  2020-03-20 01:26:40           4262  \n",
            "bappekim/air-pollution-in-seoul                             Air Pollution in Seoul                               20MB  2020-04-03 16:33:49           4397  \n",
            "kimjihoo/coronavirusdataset                                 Data Science for COVID-19 (DS4C)                      7MB  2020-07-01 06:11:23          45579  \n",
            "sudalairajkumar/novel-corona-virus-2019-dataset             Novel Corona Virus 2019 Dataset                       2MB  2020-07-01 05:35:59         221359  \n"
          ],
          "name": "stdout"
        }
      ]
    },
    {
      "cell_type": "code",
      "metadata": {
        "id": "X5vZah-P0sp6",
        "colab_type": "code",
        "colab": {
          "base_uri": "https://localhost:8080/",
          "height": 54
        },
        "outputId": "8fe9008d-879b-4193-bc8f-db971658a48a"
      },
      "source": [
        "# Download the Kaggle Dataset\n",
        "!kaggle datasets download -d luisblanche/covidct"
      ],
      "execution_count": 4,
      "outputs": [
        {
          "output_type": "stream",
          "text": [
            "Warning: Your Kaggle API key is readable by other users on this system! To fix this, you can run 'chmod 600 /content/kaggle.json'\n",
            "covidct.zip: Skipping, found more recently modified local copy (use --force to force download)\n"
          ],
          "name": "stdout"
        }
      ]
    },
    {
      "cell_type": "code",
      "metadata": {
        "id": "puXMhqTI0u4s",
        "colab_type": "code",
        "colab": {
          "base_uri": "https://localhost:8080/",
          "height": 246
        },
        "outputId": "3d71d18a-73ba-466d-9630-bc8be74279ea"
      },
      "source": [
        "import zipfile\n",
        "base_dir = '/content'\n",
        "data_dir = os.path.join(base_dir, 'data')\n",
        "local_zip = os.path.join(base_dir, 'covidct.zip')\n",
        "zip_ref = zipfile.ZipFile(local_zip, 'r')\n",
        "os.mkdir(data_dir)\n",
        "zip_ref.extractall(data_dir)\n",
        "zip_ref.close()"
      ],
      "execution_count": 6,
      "outputs": [
        {
          "output_type": "error",
          "ename": "FileExistsError",
          "evalue": "ignored",
          "traceback": [
            "\u001b[0;31m---------------------------------------------------------------------------\u001b[0m",
            "\u001b[0;31mFileExistsError\u001b[0m                           Traceback (most recent call last)",
            "\u001b[0;32m<ipython-input-6-cee11a9f7631>\u001b[0m in \u001b[0;36m<module>\u001b[0;34m()\u001b[0m\n\u001b[1;32m      4\u001b[0m \u001b[0mlocal_zip\u001b[0m \u001b[0;34m=\u001b[0m \u001b[0mos\u001b[0m\u001b[0;34m.\u001b[0m\u001b[0mpath\u001b[0m\u001b[0;34m.\u001b[0m\u001b[0mjoin\u001b[0m\u001b[0;34m(\u001b[0m\u001b[0mbase_dir\u001b[0m\u001b[0;34m,\u001b[0m \u001b[0;34m'covidct.zip'\u001b[0m\u001b[0;34m)\u001b[0m\u001b[0;34m\u001b[0m\u001b[0;34m\u001b[0m\u001b[0m\n\u001b[1;32m      5\u001b[0m \u001b[0mzip_ref\u001b[0m \u001b[0;34m=\u001b[0m \u001b[0mzipfile\u001b[0m\u001b[0;34m.\u001b[0m\u001b[0mZipFile\u001b[0m\u001b[0;34m(\u001b[0m\u001b[0mlocal_zip\u001b[0m\u001b[0;34m,\u001b[0m \u001b[0;34m'r'\u001b[0m\u001b[0;34m)\u001b[0m\u001b[0;34m\u001b[0m\u001b[0;34m\u001b[0m\u001b[0m\n\u001b[0;32m----> 6\u001b[0;31m \u001b[0mos\u001b[0m\u001b[0;34m.\u001b[0m\u001b[0mmkdir\u001b[0m\u001b[0;34m(\u001b[0m\u001b[0mdata_dir\u001b[0m\u001b[0;34m)\u001b[0m\u001b[0;34m\u001b[0m\u001b[0;34m\u001b[0m\u001b[0m\n\u001b[0m\u001b[1;32m      7\u001b[0m \u001b[0mzip_ref\u001b[0m\u001b[0;34m.\u001b[0m\u001b[0mextractall\u001b[0m\u001b[0;34m(\u001b[0m\u001b[0mdata_dir\u001b[0m\u001b[0;34m)\u001b[0m\u001b[0;34m\u001b[0m\u001b[0;34m\u001b[0m\u001b[0m\n\u001b[1;32m      8\u001b[0m \u001b[0mzip_ref\u001b[0m\u001b[0;34m.\u001b[0m\u001b[0mclose\u001b[0m\u001b[0;34m(\u001b[0m\u001b[0;34m)\u001b[0m\u001b[0;34m\u001b[0m\u001b[0;34m\u001b[0m\u001b[0m\n",
            "\u001b[0;31mFileExistsError\u001b[0m: [Errno 17] File exists: '/content/data'"
          ]
        }
      ]
    },
    {
      "cell_type": "code",
      "metadata": {
        "id": "OU-PQOwB0wbi",
        "colab_type": "code",
        "colab": {
          "base_uri": "https://localhost:8080/",
          "height": 246
        },
        "outputId": "e9902aba-e6d1-4cf3-9936-6f0df5e9702e"
      },
      "source": [
        "train_dir = os.path.join(data_dir, 'train')\n",
        "test_dir = os.path.join(data_dir, 'test')\n",
        "os.mkdir(train_dir)\n",
        "os.makedirs(os.path.join(test_dir, 'CT_COVID'))\n",
        "os.mkdir(os.path.join(test_dir, 'CT_NonCOVID'))"
      ],
      "execution_count": 7,
      "outputs": [
        {
          "output_type": "error",
          "ename": "FileExistsError",
          "evalue": "ignored",
          "traceback": [
            "\u001b[0;31m---------------------------------------------------------------------------\u001b[0m",
            "\u001b[0;31mFileExistsError\u001b[0m                           Traceback (most recent call last)",
            "\u001b[0;32m<ipython-input-7-24bba8855bcc>\u001b[0m in \u001b[0;36m<module>\u001b[0;34m()\u001b[0m\n\u001b[1;32m      1\u001b[0m \u001b[0mtrain_dir\u001b[0m \u001b[0;34m=\u001b[0m \u001b[0mos\u001b[0m\u001b[0;34m.\u001b[0m\u001b[0mpath\u001b[0m\u001b[0;34m.\u001b[0m\u001b[0mjoin\u001b[0m\u001b[0;34m(\u001b[0m\u001b[0mdata_dir\u001b[0m\u001b[0;34m,\u001b[0m \u001b[0;34m'train'\u001b[0m\u001b[0;34m)\u001b[0m\u001b[0;34m\u001b[0m\u001b[0;34m\u001b[0m\u001b[0m\n\u001b[1;32m      2\u001b[0m \u001b[0mtest_dir\u001b[0m \u001b[0;34m=\u001b[0m \u001b[0mos\u001b[0m\u001b[0;34m.\u001b[0m\u001b[0mpath\u001b[0m\u001b[0;34m.\u001b[0m\u001b[0mjoin\u001b[0m\u001b[0;34m(\u001b[0m\u001b[0mdata_dir\u001b[0m\u001b[0;34m,\u001b[0m \u001b[0;34m'test'\u001b[0m\u001b[0;34m)\u001b[0m\u001b[0;34m\u001b[0m\u001b[0;34m\u001b[0m\u001b[0m\n\u001b[0;32m----> 3\u001b[0;31m \u001b[0mos\u001b[0m\u001b[0;34m.\u001b[0m\u001b[0mmkdir\u001b[0m\u001b[0;34m(\u001b[0m\u001b[0mtrain_dir\u001b[0m\u001b[0;34m)\u001b[0m\u001b[0;34m\u001b[0m\u001b[0;34m\u001b[0m\u001b[0m\n\u001b[0m\u001b[1;32m      4\u001b[0m \u001b[0mos\u001b[0m\u001b[0;34m.\u001b[0m\u001b[0mmakedirs\u001b[0m\u001b[0;34m(\u001b[0m\u001b[0mos\u001b[0m\u001b[0;34m.\u001b[0m\u001b[0mpath\u001b[0m\u001b[0;34m.\u001b[0m\u001b[0mjoin\u001b[0m\u001b[0;34m(\u001b[0m\u001b[0mtest_dir\u001b[0m\u001b[0;34m,\u001b[0m \u001b[0;34m'CT_COVID'\u001b[0m\u001b[0;34m)\u001b[0m\u001b[0;34m)\u001b[0m\u001b[0;34m\u001b[0m\u001b[0;34m\u001b[0m\u001b[0m\n\u001b[1;32m      5\u001b[0m \u001b[0mos\u001b[0m\u001b[0;34m.\u001b[0m\u001b[0mmkdir\u001b[0m\u001b[0;34m(\u001b[0m\u001b[0mos\u001b[0m\u001b[0;34m.\u001b[0m\u001b[0mpath\u001b[0m\u001b[0;34m.\u001b[0m\u001b[0mjoin\u001b[0m\u001b[0;34m(\u001b[0m\u001b[0mtest_dir\u001b[0m\u001b[0;34m,\u001b[0m \u001b[0;34m'CT_NonCOVID'\u001b[0m\u001b[0;34m)\u001b[0m\u001b[0;34m)\u001b[0m\u001b[0;34m\u001b[0m\u001b[0;34m\u001b[0m\u001b[0m\n",
            "\u001b[0;31mFileExistsError\u001b[0m: [Errno 17] File exists: '/content/data/train'"
          ]
        }
      ]
    },
    {
      "cell_type": "code",
      "metadata": {
        "id": "Iiy1cNcn0xsf",
        "colab_type": "code",
        "colab": {
          "base_uri": "https://localhost:8080/",
          "height": 356
        },
        "outputId": "c55c18a8-68f3-4a4a-8098-073e1264dbea"
      },
      "source": [
        "import random\n",
        "import math\n",
        "import shutil\n",
        "\n",
        "train_portion = .50\n",
        "\n",
        "def splitter(name):\n",
        "  data_path = os.path.join(data_dir, name)\n",
        "  temp = os.listdir(data_path)\n",
        "  split = math.floor(len(temp) * train_portion)\n",
        "\n",
        "  test_tmp = temp[split:]\n",
        "\n",
        "  for i in test_tmp:\n",
        "    shutil.move(os.path.join(data_path, i), os.path.join(test_dir, name, i))\n",
        "  \n",
        "  shutil.move(data_path, train_dir)\n",
        "\n",
        "splitter('CT_COVID')\n",
        "splitter('CT_NonCOVID')"
      ],
      "execution_count": 8,
      "outputs": [
        {
          "output_type": "error",
          "ename": "FileNotFoundError",
          "evalue": "ignored",
          "traceback": [
            "\u001b[0;31m---------------------------------------------------------------------------\u001b[0m",
            "\u001b[0;31mFileNotFoundError\u001b[0m                         Traceback (most recent call last)",
            "\u001b[0;32m<ipython-input-8-24fb4f19b4a9>\u001b[0m in \u001b[0;36m<module>\u001b[0;34m()\u001b[0m\n\u001b[1;32m     17\u001b[0m   \u001b[0mshutil\u001b[0m\u001b[0;34m.\u001b[0m\u001b[0mmove\u001b[0m\u001b[0;34m(\u001b[0m\u001b[0mdata_path\u001b[0m\u001b[0;34m,\u001b[0m \u001b[0mtrain_dir\u001b[0m\u001b[0;34m)\u001b[0m\u001b[0;34m\u001b[0m\u001b[0;34m\u001b[0m\u001b[0m\n\u001b[1;32m     18\u001b[0m \u001b[0;34m\u001b[0m\u001b[0m\n\u001b[0;32m---> 19\u001b[0;31m \u001b[0msplitter\u001b[0m\u001b[0;34m(\u001b[0m\u001b[0;34m'CT_COVID'\u001b[0m\u001b[0;34m)\u001b[0m\u001b[0;34m\u001b[0m\u001b[0;34m\u001b[0m\u001b[0m\n\u001b[0m\u001b[1;32m     20\u001b[0m \u001b[0msplitter\u001b[0m\u001b[0;34m(\u001b[0m\u001b[0;34m'CT_NonCOVID'\u001b[0m\u001b[0;34m)\u001b[0m\u001b[0;34m\u001b[0m\u001b[0;34m\u001b[0m\u001b[0m\n",
            "\u001b[0;32m<ipython-input-8-24fb4f19b4a9>\u001b[0m in \u001b[0;36msplitter\u001b[0;34m(name)\u001b[0m\n\u001b[1;32m      7\u001b[0m \u001b[0;32mdef\u001b[0m \u001b[0msplitter\u001b[0m\u001b[0;34m(\u001b[0m\u001b[0mname\u001b[0m\u001b[0;34m)\u001b[0m\u001b[0;34m:\u001b[0m\u001b[0;34m\u001b[0m\u001b[0;34m\u001b[0m\u001b[0m\n\u001b[1;32m      8\u001b[0m   \u001b[0mdata_path\u001b[0m \u001b[0;34m=\u001b[0m \u001b[0mos\u001b[0m\u001b[0;34m.\u001b[0m\u001b[0mpath\u001b[0m\u001b[0;34m.\u001b[0m\u001b[0mjoin\u001b[0m\u001b[0;34m(\u001b[0m\u001b[0mdata_dir\u001b[0m\u001b[0;34m,\u001b[0m \u001b[0mname\u001b[0m\u001b[0;34m)\u001b[0m\u001b[0;34m\u001b[0m\u001b[0;34m\u001b[0m\u001b[0m\n\u001b[0;32m----> 9\u001b[0;31m   \u001b[0mtemp\u001b[0m \u001b[0;34m=\u001b[0m \u001b[0mos\u001b[0m\u001b[0;34m.\u001b[0m\u001b[0mlistdir\u001b[0m\u001b[0;34m(\u001b[0m\u001b[0mdata_path\u001b[0m\u001b[0;34m)\u001b[0m\u001b[0;34m\u001b[0m\u001b[0;34m\u001b[0m\u001b[0m\n\u001b[0m\u001b[1;32m     10\u001b[0m   \u001b[0msplit\u001b[0m \u001b[0;34m=\u001b[0m \u001b[0mmath\u001b[0m\u001b[0;34m.\u001b[0m\u001b[0mfloor\u001b[0m\u001b[0;34m(\u001b[0m\u001b[0mlen\u001b[0m\u001b[0;34m(\u001b[0m\u001b[0mtemp\u001b[0m\u001b[0;34m)\u001b[0m \u001b[0;34m*\u001b[0m \u001b[0mtrain_portion\u001b[0m\u001b[0;34m)\u001b[0m\u001b[0;34m\u001b[0m\u001b[0;34m\u001b[0m\u001b[0m\n\u001b[1;32m     11\u001b[0m \u001b[0;34m\u001b[0m\u001b[0m\n",
            "\u001b[0;31mFileNotFoundError\u001b[0m: [Errno 2] No such file or directory: '/content/data/CT_COVID'"
          ]
        }
      ]
    },
    {
      "cell_type": "code",
      "metadata": {
        "id": "z_T1ByCA1CYo",
        "colab_type": "code",
        "colab": {
          "base_uri": "https://localhost:8080/",
          "height": 54
        },
        "outputId": "275807bf-c60b-489c-b9d7-9ee9293abc64"
      },
      "source": [
        "import tensorflow as tf\n",
        "import keras_preprocessing\n",
        "from keras_preprocessing.image import ImageDataGenerator\n",
        "\n",
        "train_datagen = ImageDataGenerator(\n",
        "    rescale=1./255,\n",
        "    )\n",
        "     \n",
        "test_datagen = ImageDataGenerator(\n",
        "    rescale=1./255\n",
        "    )\n",
        "\n",
        "train_generator = train_datagen.flow_from_directory(\n",
        "\ttrain_dir,\n",
        "\ttarget_size=(150,150),\n",
        "\tclass_mode='binary',\n",
        "  batch_size= 61\n",
        ")\n",
        "\n",
        "test_generator = test_datagen.flow_from_directory(\n",
        "\ttest_dir,\n",
        "\ttarget_size=(150,150),\n",
        "\tclass_mode='binary',\n",
        "  batch_size=25\n",
        ")"
      ],
      "execution_count": 9,
      "outputs": [
        {
          "output_type": "stream",
          "text": [
            "Found 372 images belonging to 2 classes.\n",
            "Found 374 images belonging to 2 classes.\n"
          ],
          "name": "stdout"
        }
      ]
    },
    {
      "cell_type": "code",
      "metadata": {
        "id": "0-6xehSu1DpU",
        "colab_type": "code",
        "colab": {}
      },
      "source": [
        "class AccCallback(tf.keras.callbacks.Callback):\n",
        "  def on_epoch_end(self, epoch, logs={}):\n",
        "    if logs.get('accuracy') > .9:\n",
        "      self.model.stop_training = True"
      ],
      "execution_count": 10,
      "outputs": []
    },
    {
      "cell_type": "code",
      "metadata": {
        "id": "q5ep9dV11E2H",
        "colab_type": "code",
        "colab": {
          "base_uri": "https://localhost:8080/",
          "height": 495
        },
        "outputId": "72cb4386-a881-40cf-d17f-616b6c514e30"
      },
      "source": [
        "from tensorflow.keras.optimizers import RMSprop\n",
        "\n",
        "# DEFINE A KERAS MODEL TO CLASSIFY COVID V NONCOVID\n",
        "model = tf.keras.models.Sequential([\n",
        "    tf.keras.layers.Conv2D(16, (3,3), activation='relu', input_shape=(150, 150, 3)),\n",
        "    tf.keras.layers.MaxPooling2D(2,2),\n",
        "    tf.keras.layers.Conv2D(32, (3,3), activation='relu'),\n",
        "    tf.keras.layers.MaxPooling2D(2,2), \n",
        "    tf.keras.layers.Conv2D(64, (3,3), activation='relu'), \n",
        "    tf.keras.layers.MaxPooling2D(2,2),\n",
        "    # Flatten the results to feed into a DNN\n",
        "    tf.keras.layers.Flatten(), \n",
        "    # 512 neuron hidden layer\n",
        "    tf.keras.layers.Dense(512, activation='relu'), \n",
        "    tf.keras.layers.Dense(1, activation='sigmoid')  \n",
        "])\n",
        "\n",
        "model.compile(optimizer=RMSprop(lr=0.001), loss='binary_crossentropy', metrics=['accuracy'])\n",
        "\n",
        "model.summary()"
      ],
      "execution_count": 11,
      "outputs": [
        {
          "output_type": "stream",
          "text": [
            "Model: \"sequential\"\n",
            "_________________________________________________________________\n",
            "Layer (type)                 Output Shape              Param #   \n",
            "=================================================================\n",
            "conv2d (Conv2D)              (None, 148, 148, 16)      448       \n",
            "_________________________________________________________________\n",
            "max_pooling2d (MaxPooling2D) (None, 74, 74, 16)        0         \n",
            "_________________________________________________________________\n",
            "conv2d_1 (Conv2D)            (None, 72, 72, 32)        4640      \n",
            "_________________________________________________________________\n",
            "max_pooling2d_1 (MaxPooling2 (None, 36, 36, 32)        0         \n",
            "_________________________________________________________________\n",
            "conv2d_2 (Conv2D)            (None, 34, 34, 64)        18496     \n",
            "_________________________________________________________________\n",
            "max_pooling2d_2 (MaxPooling2 (None, 17, 17, 64)        0         \n",
            "_________________________________________________________________\n",
            "flatten (Flatten)            (None, 18496)             0         \n",
            "_________________________________________________________________\n",
            "dense (Dense)                (None, 512)               9470464   \n",
            "_________________________________________________________________\n",
            "dense_1 (Dense)              (None, 1)                 513       \n",
            "=================================================================\n",
            "Total params: 9,494,561\n",
            "Trainable params: 9,494,561\n",
            "Non-trainable params: 0\n",
            "_________________________________________________________________\n"
          ],
          "name": "stdout"
        }
      ]
    },
    {
      "cell_type": "code",
      "metadata": {
        "id": "bRUHXD631HTL",
        "colab_type": "code",
        "colab": {
          "base_uri": "https://localhost:8080/",
          "height": 1000
        },
        "outputId": "39f22dc4-ecb5-45cc-c3be-99637cfc4559"
      },
      "source": [
        "history = model.fit(train_generator, epochs=100, steps_per_epoch=3, validation_data = test_generator, verbose = 1, validation_steps=3,\n",
        "                    # callbacks=[AccCallback()]\n",
        "                    )"
      ],
      "execution_count": 12,
      "outputs": [
        {
          "output_type": "stream",
          "text": [
            "Epoch 1/100\n",
            "3/3 [==============================] - 1s 407ms/step - loss: 7.9159 - accuracy: 0.5246 - val_loss: 0.8379 - val_accuracy: 0.6400\n",
            "Epoch 2/100\n",
            "3/3 [==============================] - 1s 320ms/step - loss: 0.8527 - accuracy: 0.5082 - val_loss: 0.6992 - val_accuracy: 0.4933\n",
            "Epoch 3/100\n",
            "3/3 [==============================] - 1s 360ms/step - loss: 0.6797 - accuracy: 0.5410 - val_loss: 0.7708 - val_accuracy: 0.5600\n",
            "Epoch 4/100\n",
            "3/3 [==============================] - 1s 357ms/step - loss: 0.6202 - accuracy: 0.6641 - val_loss: 0.6046 - val_accuracy: 0.6533\n",
            "Epoch 5/100\n",
            "3/3 [==============================] - 1s 367ms/step - loss: 0.9597 - accuracy: 0.6284 - val_loss: 0.7911 - val_accuracy: 0.5200\n",
            "Epoch 6/100\n",
            "3/3 [==============================] - 1s 393ms/step - loss: 0.7464 - accuracy: 0.5156 - val_loss: 0.6554 - val_accuracy: 0.5467\n",
            "Epoch 7/100\n",
            "3/3 [==============================] - 1s 372ms/step - loss: 0.6079 - accuracy: 0.6393 - val_loss: 0.6281 - val_accuracy: 0.6267\n",
            "Epoch 8/100\n",
            "3/3 [==============================] - 1s 430ms/step - loss: 0.5960 - accuracy: 0.6557 - val_loss: 0.5727 - val_accuracy: 0.6667\n",
            "Epoch 9/100\n",
            "3/3 [==============================] - 1s 326ms/step - loss: 0.5285 - accuracy: 0.7650 - val_loss: 1.7685 - val_accuracy: 0.5467\n",
            "Epoch 10/100\n",
            "3/3 [==============================] - 1s 343ms/step - loss: 1.0167 - accuracy: 0.6557 - val_loss: 0.6103 - val_accuracy: 0.6533\n",
            "Epoch 11/100\n",
            "3/3 [==============================] - 1s 362ms/step - loss: 0.5547 - accuracy: 0.7322 - val_loss: 0.6245 - val_accuracy: 0.6933\n",
            "Epoch 12/100\n",
            "3/3 [==============================] - 1s 430ms/step - loss: 0.5395 - accuracy: 0.7188 - val_loss: 0.5302 - val_accuracy: 0.7200\n",
            "Epoch 13/100\n",
            "3/3 [==============================] - 1s 354ms/step - loss: 0.4800 - accuracy: 0.7760 - val_loss: 0.5117 - val_accuracy: 0.7333\n",
            "Epoch 14/100\n",
            "3/3 [==============================] - 1s 288ms/step - loss: 0.4850 - accuracy: 0.7266 - val_loss: 0.5367 - val_accuracy: 0.7467\n",
            "Epoch 15/100\n",
            "3/3 [==============================] - 1s 302ms/step - loss: 0.5061 - accuracy: 0.8047 - val_loss: 2.2405 - val_accuracy: 0.4933\n",
            "Epoch 16/100\n",
            "3/3 [==============================] - 1s 298ms/step - loss: 0.9546 - accuracy: 0.7031 - val_loss: 0.6208 - val_accuracy: 0.6933\n",
            "Epoch 17/100\n",
            "3/3 [==============================] - 1s 391ms/step - loss: 0.4877 - accuracy: 0.7432 - val_loss: 0.7033 - val_accuracy: 0.6133\n",
            "Epoch 18/100\n",
            "3/3 [==============================] - 1s 293ms/step - loss: 0.5425 - accuracy: 0.7109 - val_loss: 0.8897 - val_accuracy: 0.5467\n",
            "Epoch 19/100\n",
            "3/3 [==============================] - 1s 363ms/step - loss: 0.4557 - accuracy: 0.7814 - val_loss: 0.5234 - val_accuracy: 0.7467\n",
            "Epoch 20/100\n",
            "3/3 [==============================] - 1s 261ms/step - loss: 0.4201 - accuracy: 0.7891 - val_loss: 0.5479 - val_accuracy: 0.6800\n",
            "Epoch 21/100\n",
            "3/3 [==============================] - 1s 366ms/step - loss: 0.4168 - accuracy: 0.7923 - val_loss: 0.5089 - val_accuracy: 0.7200\n",
            "Epoch 22/100\n",
            "3/3 [==============================] - 1s 334ms/step - loss: 0.3059 - accuracy: 0.8907 - val_loss: 0.7143 - val_accuracy: 0.6933\n",
            "Epoch 23/100\n",
            "3/3 [==============================] - 1s 338ms/step - loss: 0.3498 - accuracy: 0.8470 - val_loss: 0.8501 - val_accuracy: 0.6400\n",
            "Epoch 24/100\n",
            "3/3 [==============================] - 1s 424ms/step - loss: 0.4835 - accuracy: 0.7422 - val_loss: 0.5820 - val_accuracy: 0.6933\n",
            "Epoch 25/100\n",
            "3/3 [==============================] - 1s 349ms/step - loss: 0.3124 - accuracy: 0.9016 - val_loss: 0.6052 - val_accuracy: 0.6933\n",
            "Epoch 26/100\n",
            "3/3 [==============================] - 1s 361ms/step - loss: 0.3685 - accuracy: 0.8251 - val_loss: 0.6299 - val_accuracy: 0.6800\n",
            "Epoch 27/100\n",
            "3/3 [==============================] - 1s 312ms/step - loss: 0.2975 - accuracy: 0.8750 - val_loss: 0.6121 - val_accuracy: 0.6933\n",
            "Epoch 28/100\n",
            "3/3 [==============================] - 1s 387ms/step - loss: 0.2910 - accuracy: 0.8634 - val_loss: 0.5760 - val_accuracy: 0.6933\n",
            "Epoch 29/100\n",
            "3/3 [==============================] - 1s 376ms/step - loss: 0.2511 - accuracy: 0.9016 - val_loss: 1.6885 - val_accuracy: 0.5467\n",
            "Epoch 30/100\n",
            "3/3 [==============================] - 1s 381ms/step - loss: 0.3126 - accuracy: 0.8906 - val_loss: 0.5307 - val_accuracy: 0.7867\n",
            "Epoch 31/100\n",
            "3/3 [==============================] - 1s 315ms/step - loss: 0.2064 - accuracy: 0.9219 - val_loss: 0.8022 - val_accuracy: 0.7067\n",
            "Epoch 32/100\n",
            "3/3 [==============================] - 1s 323ms/step - loss: 0.2875 - accuracy: 0.8750 - val_loss: 0.5833 - val_accuracy: 0.7733\n",
            "Epoch 33/100\n",
            "3/3 [==============================] - 1s 360ms/step - loss: 0.2156 - accuracy: 0.9235 - val_loss: 0.8357 - val_accuracy: 0.6533\n",
            "Epoch 34/100\n",
            "3/3 [==============================] - 1s 361ms/step - loss: 0.2710 - accuracy: 0.8470 - val_loss: 0.9731 - val_accuracy: 0.6533\n",
            "Epoch 35/100\n",
            "3/3 [==============================] - 1s 324ms/step - loss: 0.1919 - accuracy: 0.9531 - val_loss: 1.1520 - val_accuracy: 0.6933\n",
            "Epoch 36/100\n",
            "3/3 [==============================] - 1s 341ms/step - loss: 0.6222 - accuracy: 0.7656 - val_loss: 0.4940 - val_accuracy: 0.7600\n",
            "Epoch 37/100\n",
            "3/3 [==============================] - 1s 386ms/step - loss: 0.2804 - accuracy: 0.8962 - val_loss: 0.4560 - val_accuracy: 0.7867\n",
            "Epoch 38/100\n",
            "3/3 [==============================] - 1s 383ms/step - loss: 0.2048 - accuracy: 0.9453 - val_loss: 0.4670 - val_accuracy: 0.8133\n",
            "Epoch 39/100\n",
            "3/3 [==============================] - 1s 355ms/step - loss: 0.1304 - accuracy: 0.9727 - val_loss: 0.5558 - val_accuracy: 0.7733\n",
            "Epoch 40/100\n",
            "3/3 [==============================] - 1s 346ms/step - loss: 0.1467 - accuracy: 0.9126 - val_loss: 1.2687 - val_accuracy: 0.6800\n",
            "Epoch 41/100\n",
            "3/3 [==============================] - 1s 348ms/step - loss: 0.3409 - accuracy: 0.8306 - val_loss: 0.5167 - val_accuracy: 0.7867\n",
            "Epoch 42/100\n",
            "3/3 [==============================] - 1s 296ms/step - loss: 0.1005 - accuracy: 0.9922 - val_loss: 1.1757 - val_accuracy: 0.7200\n",
            "Epoch 43/100\n",
            "3/3 [==============================] - 1s 365ms/step - loss: 0.1472 - accuracy: 0.9454 - val_loss: 0.8489 - val_accuracy: 0.6800\n",
            "Epoch 44/100\n",
            "3/3 [==============================] - 1s 358ms/step - loss: 0.0912 - accuracy: 0.9836 - val_loss: 0.8925 - val_accuracy: 0.7600\n",
            "Epoch 45/100\n",
            "3/3 [==============================] - 1s 376ms/step - loss: 0.1338 - accuracy: 0.9454 - val_loss: 1.0519 - val_accuracy: 0.6533\n",
            "Epoch 46/100\n",
            "3/3 [==============================] - 1s 300ms/step - loss: 0.0800 - accuracy: 0.9766 - val_loss: 1.3960 - val_accuracy: 0.6533\n",
            "Epoch 47/100\n",
            "3/3 [==============================] - 1s 371ms/step - loss: 0.0582 - accuracy: 0.9836 - val_loss: 1.4048 - val_accuracy: 0.6533\n",
            "Epoch 48/100\n",
            "3/3 [==============================] - 1s 293ms/step - loss: 0.0404 - accuracy: 0.9844 - val_loss: 1.0563 - val_accuracy: 0.7467\n",
            "Epoch 49/100\n",
            "3/3 [==============================] - 1s 385ms/step - loss: 0.3378 - accuracy: 0.8906 - val_loss: 3.1875 - val_accuracy: 0.5333\n",
            "Epoch 50/100\n",
            "3/3 [==============================] - 1s 359ms/step - loss: 0.6291 - accuracy: 0.7969 - val_loss: 0.4001 - val_accuracy: 0.7733\n",
            "Epoch 51/100\n",
            "3/3 [==============================] - 1s 381ms/step - loss: 0.2195 - accuracy: 0.9563 - val_loss: 0.6988 - val_accuracy: 0.7067\n",
            "Epoch 52/100\n",
            "3/3 [==============================] - 1s 377ms/step - loss: 0.1039 - accuracy: 0.9727 - val_loss: 0.7372 - val_accuracy: 0.7333\n",
            "Epoch 53/100\n",
            "3/3 [==============================] - 1s 367ms/step - loss: 0.0489 - accuracy: 1.0000 - val_loss: 0.7522 - val_accuracy: 0.7467\n",
            "Epoch 54/100\n",
            "3/3 [==============================] - 1s 385ms/step - loss: 0.1741 - accuracy: 0.9399 - val_loss: 0.7133 - val_accuracy: 0.7200\n",
            "Epoch 55/100\n",
            "3/3 [==============================] - 1s 362ms/step - loss: 0.0616 - accuracy: 0.9891 - val_loss: 1.0252 - val_accuracy: 0.7600\n",
            "Epoch 56/100\n",
            "3/3 [==============================] - 1s 311ms/step - loss: 0.0328 - accuracy: 0.9844 - val_loss: 0.9371 - val_accuracy: 0.7600\n",
            "Epoch 57/100\n",
            "3/3 [==============================] - 1s 366ms/step - loss: 0.0228 - accuracy: 0.9945 - val_loss: 1.5043 - val_accuracy: 0.6533\n",
            "Epoch 58/100\n",
            "3/3 [==============================] - 1s 344ms/step - loss: 0.0148 - accuracy: 1.0000 - val_loss: 0.7652 - val_accuracy: 0.7867\n",
            "Epoch 59/100\n",
            "3/3 [==============================] - 1s 350ms/step - loss: 0.0124 - accuracy: 1.0000 - val_loss: 0.9526 - val_accuracy: 0.7467\n",
            "Epoch 60/100\n",
            "3/3 [==============================] - 1s 332ms/step - loss: 0.0068 - accuracy: 1.0000 - val_loss: 1.1217 - val_accuracy: 0.8000\n",
            "Epoch 61/100\n",
            "3/3 [==============================] - 1s 376ms/step - loss: 0.0050 - accuracy: 1.0000 - val_loss: 1.1595 - val_accuracy: 0.7600\n",
            "Epoch 62/100\n",
            "3/3 [==============================] - 1s 358ms/step - loss: 0.0036 - accuracy: 1.0000 - val_loss: 1.1924 - val_accuracy: 0.7333\n",
            "Epoch 63/100\n",
            "3/3 [==============================] - 1s 309ms/step - loss: 0.0019 - accuracy: 1.0000 - val_loss: 1.0183 - val_accuracy: 0.8267\n",
            "Epoch 64/100\n",
            "3/3 [==============================] - 1s 339ms/step - loss: 0.0036 - accuracy: 1.0000 - val_loss: 1.1881 - val_accuracy: 0.7333\n",
            "Epoch 65/100\n",
            "3/3 [==============================] - 1s 321ms/step - loss: 0.0058 - accuracy: 1.0000 - val_loss: 1.6802 - val_accuracy: 0.7733\n",
            "Epoch 66/100\n",
            "3/3 [==============================] - 1s 396ms/step - loss: 0.0014 - accuracy: 1.0000 - val_loss: 1.2406 - val_accuracy: 0.6933\n",
            "Epoch 67/100\n",
            "3/3 [==============================] - 1s 299ms/step - loss: 0.0023 - accuracy: 1.0000 - val_loss: 1.3543 - val_accuracy: 0.7333\n",
            "Epoch 68/100\n",
            "3/3 [==============================] - 1s 359ms/step - loss: 2.3672 - accuracy: 0.8306 - val_loss: 2.7333 - val_accuracy: 0.6533\n",
            "Epoch 69/100\n",
            "3/3 [==============================] - 1s 343ms/step - loss: 0.5349 - accuracy: 0.8203 - val_loss: 0.8392 - val_accuracy: 0.7600\n",
            "Epoch 70/100\n",
            "3/3 [==============================] - 1s 322ms/step - loss: 0.0992 - accuracy: 0.9766 - val_loss: 0.5983 - val_accuracy: 0.7867\n",
            "Epoch 71/100\n",
            "3/3 [==============================] - 1s 286ms/step - loss: 0.0562 - accuracy: 1.0000 - val_loss: 1.2512 - val_accuracy: 0.7333\n",
            "Epoch 72/100\n",
            "3/3 [==============================] - 1s 399ms/step - loss: 0.7092 - accuracy: 0.7596 - val_loss: 1.0900 - val_accuracy: 0.6667\n",
            "Epoch 73/100\n",
            "3/3 [==============================] - 1s 347ms/step - loss: 0.0552 - accuracy: 0.9836 - val_loss: 0.8688 - val_accuracy: 0.7600\n",
            "Epoch 74/100\n",
            "3/3 [==============================] - 1s 267ms/step - loss: 0.0284 - accuracy: 1.0000 - val_loss: 1.0716 - val_accuracy: 0.7200\n",
            "Epoch 75/100\n",
            "3/3 [==============================] - 1s 269ms/step - loss: 0.0171 - accuracy: 1.0000 - val_loss: 1.0631 - val_accuracy: 0.7467\n",
            "Epoch 76/100\n",
            "3/3 [==============================] - 1s 324ms/step - loss: 0.0106 - accuracy: 1.0000 - val_loss: 0.7692 - val_accuracy: 0.7867\n",
            "Epoch 77/100\n",
            "3/3 [==============================] - 1s 290ms/step - loss: 0.0075 - accuracy: 1.0000 - val_loss: 0.9099 - val_accuracy: 0.6933\n",
            "Epoch 78/100\n",
            "3/3 [==============================] - 1s 287ms/step - loss: 0.0071 - accuracy: 1.0000 - val_loss: 0.7160 - val_accuracy: 0.8133\n",
            "Epoch 79/100\n",
            "3/3 [==============================] - 1s 346ms/step - loss: 0.0051 - accuracy: 1.0000 - val_loss: 0.9831 - val_accuracy: 0.7600\n",
            "Epoch 80/100\n",
            "3/3 [==============================] - 1s 306ms/step - loss: 0.0034 - accuracy: 1.0000 - val_loss: 0.9745 - val_accuracy: 0.7867\n",
            "Epoch 81/100\n",
            "3/3 [==============================] - 1s 275ms/step - loss: 0.0034 - accuracy: 1.0000 - val_loss: 1.8777 - val_accuracy: 0.6800\n",
            "Epoch 82/100\n",
            "3/3 [==============================] - 1s 310ms/step - loss: 0.0027 - accuracy: 1.0000 - val_loss: 0.9335 - val_accuracy: 0.8000\n",
            "Epoch 83/100\n",
            "3/3 [==============================] - 1s 276ms/step - loss: 0.0023 - accuracy: 1.0000 - val_loss: 1.6716 - val_accuracy: 0.6933\n",
            "Epoch 84/100\n",
            "3/3 [==============================] - 1s 357ms/step - loss: 0.0602 - accuracy: 0.9688 - val_loss: 1.3015 - val_accuracy: 0.6667\n",
            "Epoch 85/100\n",
            "3/3 [==============================] - 1s 362ms/step - loss: 0.3591 - accuracy: 0.8438 - val_loss: 2.4928 - val_accuracy: 0.6533\n",
            "Epoch 86/100\n",
            "3/3 [==============================] - 1s 348ms/step - loss: 0.2107 - accuracy: 0.9180 - val_loss: 0.6004 - val_accuracy: 0.8000\n",
            "Epoch 87/100\n",
            "3/3 [==============================] - 1s 358ms/step - loss: 0.0268 - accuracy: 1.0000 - val_loss: 0.4855 - val_accuracy: 0.8133\n",
            "Epoch 88/100\n",
            "3/3 [==============================] - 1s 387ms/step - loss: 0.0080 - accuracy: 1.0000 - val_loss: 0.7400 - val_accuracy: 0.7867\n",
            "Epoch 89/100\n",
            "3/3 [==============================] - 1s 324ms/step - loss: 0.0043 - accuracy: 1.0000 - val_loss: 0.8919 - val_accuracy: 0.7733\n",
            "Epoch 90/100\n",
            "3/3 [==============================] - 1s 283ms/step - loss: 0.0037 - accuracy: 1.0000 - val_loss: 0.8035 - val_accuracy: 0.7733\n",
            "Epoch 91/100\n",
            "3/3 [==============================] - 1s 288ms/step - loss: 0.0024 - accuracy: 1.0000 - val_loss: 1.5854 - val_accuracy: 0.7200\n",
            "Epoch 92/100\n",
            "3/3 [==============================] - 1s 396ms/step - loss: 0.0017 - accuracy: 1.0000 - val_loss: 1.3043 - val_accuracy: 0.7333\n",
            "Epoch 93/100\n",
            "3/3 [==============================] - 1s 319ms/step - loss: 0.0014 - accuracy: 1.0000 - val_loss: 0.9364 - val_accuracy: 0.7867\n",
            "Epoch 94/100\n",
            "3/3 [==============================] - 1s 372ms/step - loss: 0.0010 - accuracy: 1.0000 - val_loss: 1.8783 - val_accuracy: 0.6933\n",
            "Epoch 95/100\n",
            "3/3 [==============================] - 1s 351ms/step - loss: 6.7105e-04 - accuracy: 1.0000 - val_loss: 1.2923 - val_accuracy: 0.7333\n",
            "Epoch 96/100\n",
            "3/3 [==============================] - 1s 423ms/step - loss: 8.9208e-04 - accuracy: 1.0000 - val_loss: 1.4541 - val_accuracy: 0.6933\n",
            "Epoch 97/100\n",
            "3/3 [==============================] - 1s 323ms/step - loss: 4.2197e-04 - accuracy: 1.0000 - val_loss: 1.3171 - val_accuracy: 0.7467\n",
            "Epoch 98/100\n",
            "3/3 [==============================] - 1s 318ms/step - loss: 3.5887e-04 - accuracy: 1.0000 - val_loss: 1.3448 - val_accuracy: 0.7067\n",
            "Epoch 99/100\n",
            "3/3 [==============================] - 1s 422ms/step - loss: 4.7593e-04 - accuracy: 1.0000 - val_loss: 1.8622 - val_accuracy: 0.6667\n",
            "Epoch 100/100\n",
            "3/3 [==============================] - 1s 350ms/step - loss: 3.4357e-04 - accuracy: 1.0000 - val_loss: 2.0173 - val_accuracy: 0.7200\n"
          ],
          "name": "stdout"
        }
      ]
    },
    {
      "cell_type": "code",
      "metadata": {
        "id": "rhk1dGiO1I7N",
        "colab_type": "code",
        "colab": {
          "base_uri": "https://localhost:8080/",
          "height": 283
        },
        "outputId": "d8b69e02-50d4-4b50-ce0d-0e7ca2f14c2d"
      },
      "source": [
        "import matplotlib.pyplot as plt\n",
        "accuracy = history.history['accuracy']\n",
        "val_accuracy = history.history['val_accuracy']\n",
        "epochs = range(len(accuracy))\n",
        "plt.plot(epochs, accuracy, 'r', label='Training Accuracy')\n",
        "plt.plot(epochs, val_accuracy, 'b', label='Testing Accuracy')\n",
        "plt.legend(loc=0)\n",
        "plt.figure()\n",
        "plt.show()"
      ],
      "execution_count": 13,
      "outputs": [
        {
          "output_type": "display_data",
          "data": {
            "image/png": "[encoded data removed]",
            "text/plain": [
              "<Figure size 432x288 with 1 Axes>"
            ]
          },
          "metadata": {
            "tags": [],
            "needs_background": "light"
          }
        },
        {
          "output_type": "display_data",
          "data": {
            "text/plain": [
              "<Figure size 432x288 with 0 Axes>"
            ]
          },
          "metadata": {
            "tags": []
          }
        }
      ]
    },
    {
      "cell_type": "code",
      "metadata": {
        "id": "Sj-bE10e1KJa",
        "colab_type": "code",
        "colab": {
          "base_uri": "https://localhost:8080/",
          "height": 283
        },
        "outputId": "effb3063-0780-4c8e-a7d7-e176b93c62bd"
      },
      "source": [
        "loss = history.history['loss']\n",
        "val_loss = history.history['val_loss']\n",
        "epochs = range(len(accuracy))\n",
        "plt.plot(epochs, loss, 'g', label='Loss Training')\n",
        "plt.plot(epochs, val_loss, 'c', label='Loss Testing')\n",
        "plt.legend(loc=0)\n",
        "plt.figure()\n",
        "plt.show()"
      ],
      "execution_count": 14,
      "outputs": [
        {
          "output_type": "display_data",
          "data": {
            "image/png": "[encoded data removed]",
            "text/plain": [
              "<Figure size 432x288 with 1 Axes>"
            ]
          },
          "metadata": {
            "tags": [],
            "needs_background": "light"
          }
        },
        {
          "output_type": "display_data",
          "data": {
            "text/plain": [
              "<Figure size 432x288 with 0 Axes>"
            ]
          },
          "metadata": {
            "tags": []
          }
        }
      ]
    }
  ]
}